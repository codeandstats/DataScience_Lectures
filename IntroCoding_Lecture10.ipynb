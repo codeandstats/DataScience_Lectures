{
 "cells": [
  {
   "cell_type": "markdown",
   "metadata": {},
   "source": [
    "# Dates and Times"
   ]
  },
  {
   "cell_type": "code",
   "execution_count": 6,
   "metadata": {},
   "outputs": [],
   "source": [
    "from datetime import datetime, timedelta\n",
    "import pandas as pd\n",
    "import numpy as np\n",
    "import matplotlib.pyplot as plt"
   ]
  },
  {
   "cell_type": "code",
   "execution_count": 3,
   "metadata": {},
   "outputs": [
    {
     "data": {
      "text/plain": [
       "datetime.datetime(2024, 6, 18, 15, 11, 39, 903326)"
      ]
     },
     "execution_count": 3,
     "metadata": {},
     "output_type": "execute_result"
    }
   ],
   "source": [
    "now = datetime.now()\n",
    "now"
   ]
  },
  {
   "cell_type": "code",
   "execution_count": 4,
   "metadata": {},
   "outputs": [
    {
     "data": {
      "text/plain": [
       "(2024, 6, 18)"
      ]
     },
     "execution_count": 4,
     "metadata": {},
     "output_type": "execute_result"
    }
   ],
   "source": [
    "now.year, now.month, now.day"
   ]
  },
  {
   "cell_type": "code",
   "execution_count": 5,
   "metadata": {},
   "outputs": [
    {
     "data": {
      "text/plain": [
       "datetime.timedelta(days=926, seconds=56700)"
      ]
     },
     "execution_count": 5,
     "metadata": {},
     "output_type": "execute_result"
    }
   ],
   "source": [
    "delta = datetime(2011, 1, 7) - datetime(2008, 6, 24, 8, 15)\n",
    "delta"
   ]
  },
  {
   "cell_type": "code",
   "execution_count": 7,
   "metadata": {},
   "outputs": [
    {
     "data": {
      "text/plain": [
       "datetime.datetime(2011, 1, 19, 0, 0)"
      ]
     },
     "execution_count": 7,
     "metadata": {},
     "output_type": "execute_result"
    }
   ],
   "source": [
    "start = datetime(2011, 1, 7)\n",
    "\n",
    "start + timedelta(12)"
   ]
  },
  {
   "cell_type": "markdown",
   "metadata": {},
   "source": [
    "Formatting datetime objects:"
   ]
  },
  {
   "cell_type": "code",
   "execution_count": 8,
   "metadata": {},
   "outputs": [
    {
     "data": {
      "text/plain": [
       "'2011-01-07 00:00:00'"
      ]
     },
     "execution_count": 8,
     "metadata": {},
     "output_type": "execute_result"
    }
   ],
   "source": [
    "str(start)"
   ]
  },
  {
   "cell_type": "markdown",
   "metadata": {},
   "source": [
    "<div id=\"tbl-table_datetime_formatting\" class=\"anchored\">\n",
    "<table class=\"table\">\n",
    "<caption>Table&nbsp;11.2: <code>datetime</code> format specification (ISO C89 compatible)</caption>\n",
    "<thead>\n",
    "<tr class=\"header\">\n",
    "<th style=\"text-align: left;\">Type</th>\n",
    "<th style=\"text-align: left;\">Description</th>\n",
    "</tr>\n",
    "</thead>\n",
    "<tbody>\n",
    "<tr class=\"odd\">\n",
    "<td style=\"text-align: left;\"><code>%Y</code></td>\n",
    "<td style=\"text-align: left;\">Four-digit year</td>\n",
    "</tr>\n",
    "<tr class=\"even\">\n",
    "<td style=\"text-align: left;\"><code>%y</code></td>\n",
    "<td style=\"text-align: left;\">Two-digit year</td>\n",
    "</tr>\n",
    "<tr class=\"odd\">\n",
    "<td style=\"text-align: left;\"><code>%m</code></td>\n",
    "<td style=\"text-align: left;\">Two-digit month [01, 12]</td>\n",
    "</tr>\n",
    "<tr class=\"even\">\n",
    "<td style=\"text-align: left;\"><code>%d</code></td>\n",
    "<td style=\"text-align: left;\">Two-digit day [01, 31]</td>\n",
    "</tr>\n",
    "<tr class=\"odd\">\n",
    "<td style=\"text-align: left;\"><code>%H</code></td>\n",
    "<td style=\"text-align: left;\">Hour (24-hour clock) [00, 23]</td>\n",
    "</tr>\n",
    "<tr class=\"even\">\n",
    "<td style=\"text-align: left;\"><code>%I</code></td>\n",
    "<td style=\"text-align: left;\">Hour (12-hour clock) [01, 12]</td>\n",
    "</tr>\n",
    "<tr class=\"odd\">\n",
    "<td style=\"text-align: left;\"><code>%M</code></td>\n",
    "<td style=\"text-align: left;\">Two-digit minute [00, 59]</td>\n",
    "</tr>\n",
    "<tr class=\"even\">\n",
    "<td style=\"text-align: left;\"><code>%S</code></td>\n",
    "<td style=\"text-align: left;\">Second [00, 61] (seconds 60, 61 account for leap seconds)</td>\n",
    "</tr>\n",
    "<tr class=\"odd\">\n",
    "<td style=\"text-align: left;\"><code>%f</code></td>\n",
    "<td style=\"text-align: left;\">Microsecond as an integer, zero-padded (from 000000 to 999999)</td>\n",
    "</tr>\n",
    "<tr class=\"even\">\n",
    "<td style=\"text-align: left;\"><code>%j</code></td>\n",
    "<td style=\"text-align: left;\">Day of the year as a zero-padded integer (from 001 to 336)</td>\n",
    "</tr>\n",
    "<tr class=\"odd\">\n",
    "<td style=\"text-align: left;\"><code>%w</code></td>\n",
    "<td style=\"text-align: left;\">Weekday as an integer [0 (Sunday), 6]</td>\n",
    "</tr>\n",
    "<tr class=\"even\">\n",
    "<td style=\"text-align: left;\"><code>%u</code></td>\n",
    "<td style=\"text-align: left;\">Weekday as an integer starting from 1, where 1 is Monday.</td>\n",
    "</tr>\n",
    "<tr class=\"odd\">\n",
    "<td style=\"text-align: left;\"><code>%U</code></td>\n",
    "<td style=\"text-align: left;\">Week number of the year [00, 53]; Sunday is considered the first day of the week, and days before the first Sunday of the year are “week 0”</td>\n",
    "</tr>\n",
    "<tr class=\"even\">\n",
    "<td style=\"text-align: left;\"><code>%W</code></td>\n",
    "<td style=\"text-align: left;\">Week number of the year [00, 53]; Monday is considered the first day of the week, and days before the first Monday of the year are “week 0”</td>\n",
    "</tr>\n",
    "<tr class=\"odd\">\n",
    "<td style=\"text-align: left;\"><code>%z</code></td>\n",
    "<td style=\"text-align: left;\">UTC time zone offset as <code>+HHMM</code> or <code>-HHMM</code>; empty if time zone naive</td>\n",
    "</tr>\n",
    "<tr class=\"even\">\n",
    "<td style=\"text-align: left;\"><code>%Z</code></td>\n",
    "<td style=\"text-align: left;\">Time zone name as a string, or empty string if no time zone</td>\n",
    "</tr>\n",
    "<tr class=\"odd\">\n",
    "<td style=\"text-align: left;\"><code>%F</code></td>\n",
    "<td style=\"text-align: left;\">Shortcut for <code>%Y-%m-%d</code> (e.g., <code>2012-4-18</code>)</td>\n",
    "</tr>\n",
    "<tr class=\"even\">\n",
    "<td style=\"text-align: left;\"><code>%D</code></td>\n",
    "<td style=\"text-align: left;\">Shortcut for <code>%m/%d/%y</code> (e.g., <code>04/18/12</code>)</td>\n",
    "</tr>\n",
    "</tbody>\n",
    "</table>\n",
    "</div>"
   ]
  },
  {
   "cell_type": "code",
   "execution_count": 9,
   "metadata": {},
   "outputs": [
    {
     "data": {
      "text/plain": [
       "'2024-06-18'"
      ]
     },
     "execution_count": 9,
     "metadata": {},
     "output_type": "execute_result"
    }
   ],
   "source": [
    "now.strftime(\"%Y-%m-%d\")"
   ]
  },
  {
   "cell_type": "markdown",
   "metadata": {},
   "source": [
    "`datetime` objects also have a number of locale-specific formatting options for systems in other countries or languages. For example, the abbreviated month names will be different on German or French systems compared with English systems. See Table 11.3 for a listing."
   ]
  },
  {
   "cell_type": "markdown",
   "metadata": {},
   "source": [
    "<div id=\"tbl-table_datetime_formatting_locale\" class=\"anchored\">\n",
    "<table class=\"table\">\n",
    "<caption>Table&nbsp;11.3: Locale-specific date formatting</caption>\n",
    "<thead>\n",
    "<tr class=\"header\">\n",
    "<th style=\"text-align: left;\">Type</th>\n",
    "<th style=\"text-align: left;\">Description</th>\n",
    "</tr>\n",
    "</thead>\n",
    "<tbody>\n",
    "<tr class=\"odd\">\n",
    "<td style=\"text-align: left;\"><code>%a</code></td>\n",
    "<td style=\"text-align: left;\">Abbreviated weekday name</td>\n",
    "</tr>\n",
    "<tr class=\"even\">\n",
    "<td style=\"text-align: left;\"><code>%A</code></td>\n",
    "<td style=\"text-align: left;\">Full weekday name</td>\n",
    "</tr>\n",
    "<tr class=\"odd\">\n",
    "<td style=\"text-align: left;\"><code>%b</code></td>\n",
    "<td style=\"text-align: left;\">Abbreviated month name</td>\n",
    "</tr>\n",
    "<tr class=\"even\">\n",
    "<td style=\"text-align: left;\"><code>%B</code></td>\n",
    "<td style=\"text-align: left;\">Full month name</td>\n",
    "</tr>\n",
    "<tr class=\"odd\">\n",
    "<td style=\"text-align: left;\"><code>%c</code></td>\n",
    "<td style=\"text-align: left;\">Full date and time (e.g., ‘Tue 01 May 2012 04:20:57 PM’)</td>\n",
    "</tr>\n",
    "<tr class=\"even\">\n",
    "<td style=\"text-align: left;\"><code>%p</code></td>\n",
    "<td style=\"text-align: left;\">Locale equivalent of AM or PM</td>\n",
    "</tr>\n",
    "<tr class=\"odd\">\n",
    "<td style=\"text-align: left;\"><code>%x</code></td>\n",
    "<td style=\"text-align: left;\">Locale-appropriate formatted date (e.g., in the United States, May 1, 2012 yields ‘05/01/2012’)</td>\n",
    "</tr>\n",
    "<tr class=\"even\">\n",
    "<td style=\"text-align: left;\"><code>%X</code></td>\n",
    "<td style=\"text-align: left;\">Locale-appropriate time (e.g., ‘04:24:12 PM’)</td>\n",
    "</tr>\n",
    "</tbody>\n",
    "</table>\n",
    "</div>"
   ]
  },
  {
   "cell_type": "code",
   "execution_count": 10,
   "metadata": {},
   "outputs": [
    {
     "data": {
      "text/plain": [
       "'Tuesday, Jun, PM'"
      ]
     },
     "execution_count": 10,
     "metadata": {},
     "output_type": "execute_result"
    }
   ],
   "source": [
    "now.strftime(\"%A, %b, %p\")"
   ]
  },
  {
   "cell_type": "markdown",
   "metadata": {},
   "source": [
    "#### Generating Date Ranges"
   ]
  },
  {
   "cell_type": "code",
   "execution_count": 16,
   "metadata": {},
   "outputs": [
    {
     "data": {
      "text/plain": [
       "2012-03-09 09:30:00   -0.003219\n",
       "2012-03-10 09:30:00    0.595169\n",
       "2012-03-11 09:30:00    0.299114\n",
       "2012-03-12 09:30:00   -1.711842\n",
       "2012-03-13 09:30:00   -0.321497\n",
       "2012-03-14 09:30:00    0.860591\n",
       "Freq: D, dtype: float64"
      ]
     },
     "execution_count": 16,
     "metadata": {},
     "output_type": "execute_result"
    }
   ],
   "source": [
    "dates = pd.date_range(\"2012-03-09 09:30\", periods=6)\n",
    "\n",
    "ts = pd.Series(np.random.standard_normal(len(dates)), index=dates)\n",
    "ts"
   ]
  },
  {
   "cell_type": "markdown",
   "metadata": {},
   "source": [
    "### Time Zones\n",
    "\n",
    "Working with time zones can be one of the most unpleasant parts of time series manipulation. As a result, many time series users choose to work with time series in coordinated universal time or UTC, which is the geography-independent international standard. Time zones are expressed as offsets from UTC; for example, New York is four hours behind UTC during daylight saving time (DST) and five hours behind the rest of the year.\n",
    "\n",
    "In Python, time zone information comes from the third-party `pytz` library (installable with pip or conda), which exposes the Olson database, a compilation of world time zone information. This is especially important for historical data because the DST transition dates (and even UTC offsets) have been changed numerous times depending on the regional laws. In the United States, the DST transition times have been changed many times since 1900!\n",
    "\n",
    "For detailed information about the pytz library, you’ll need to look at that library’s documentation. pandas wraps pytz’s functionality so you can ignore its API outside of the time zone names. Since pandas has a hard dependency on pytz, it isn't necessary to install it separately. Time zone names can be found interactively and in the docs:"
   ]
  },
  {
   "cell_type": "markdown",
   "metadata": {},
   "source": [
    "##### Time Zone Localization and Conversion\n",
    "\n",
    "By default, time series in pandas are time zone agnostic."
   ]
  },
  {
   "cell_type": "code",
   "execution_count": 15,
   "metadata": {},
   "outputs": [
    {
     "name": "stdout",
     "output_type": "stream",
     "text": [
      "None\n"
     ]
    }
   ],
   "source": [
    "print(ts.index.tz)"
   ]
  },
  {
   "cell_type": "markdown",
   "metadata": {},
   "source": [
    "Date ranges can be generated with a time zone set:"
   ]
  },
  {
   "cell_type": "code",
   "execution_count": null,
   "metadata": {},
   "outputs": [],
   "source": [
    "pd.date_range(\"2012-03-09 09:30\", periods=10, tz=\"UTC\")"
   ]
  },
  {
   "cell_type": "markdown",
   "metadata": {},
   "source": [
    "Conversion from naive to localized (reinterpreted as having been observed in a particular time zone) is handled by the `tz_localize` method:"
   ]
  },
  {
   "cell_type": "code",
   "execution_count": 18,
   "metadata": {},
   "outputs": [
    {
     "data": {
      "text/plain": [
       "2012-03-09 09:30:00+00:00   -0.003219\n",
       "2012-03-10 09:30:00+00:00    0.595169\n",
       "2012-03-11 09:30:00+00:00    0.299114\n",
       "2012-03-12 09:30:00+00:00   -1.711842\n",
       "2012-03-13 09:30:00+00:00   -0.321497\n",
       "2012-03-14 09:30:00+00:00    0.860591\n",
       "Freq: D, dtype: float64"
      ]
     },
     "execution_count": 18,
     "metadata": {},
     "output_type": "execute_result"
    }
   ],
   "source": [
    "ts_utc = ts.tz_localize(\"UTC\")\n",
    "ts_utc"
   ]
  },
  {
   "cell_type": "markdown",
   "metadata": {},
   "source": [
    "Once a time series has been localized to a particular time zone, it can be converted to another time zone with `tz_convert`:"
   ]
  },
  {
   "cell_type": "code",
   "execution_count": 19,
   "metadata": {},
   "outputs": [
    {
     "data": {
      "text/plain": [
       "2012-03-09 04:30:00-05:00   -0.003219\n",
       "2012-03-10 04:30:00-05:00    0.595169\n",
       "2012-03-11 05:30:00-04:00    0.299114\n",
       "2012-03-12 05:30:00-04:00   -1.711842\n",
       "2012-03-13 05:30:00-04:00   -0.321497\n",
       "2012-03-14 05:30:00-04:00    0.860591\n",
       "Freq: D, dtype: float64"
      ]
     },
     "execution_count": 19,
     "metadata": {},
     "output_type": "execute_result"
    }
   ],
   "source": [
    "ts_utc.tz_convert(\"America/New_York\")"
   ]
  }
 ],
 "metadata": {
  "kernelspec": {
   "display_name": "aug_hs_env",
   "language": "python",
   "name": "python3"
  },
  "language_info": {
   "codemirror_mode": {
    "name": "ipython",
    "version": 3
   },
   "file_extension": ".py",
   "mimetype": "text/x-python",
   "name": "python",
   "nbconvert_exporter": "python",
   "pygments_lexer": "ipython3",
   "version": "3.9.0"
  }
 },
 "nbformat": 4,
 "nbformat_minor": 2
}
